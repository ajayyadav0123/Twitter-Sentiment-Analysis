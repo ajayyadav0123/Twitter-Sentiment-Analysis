{
 "cells": [
  {
   "cell_type": "code",
   "execution_count": 1,
   "metadata": {},
   "outputs": [],
   "source": [
    "#general \n",
    "import tweepy                 #to consume twitter api\n",
    "import pandas as pd           #to handle data manupulation\n",
    "import numpy as np            #for number computation   \n",
    "\n",
    "#for ploting and manupunation\n",
    "from IPython.display import display  \n",
    "import matplotlib.pyplot as plt\n",
    "import seaborn as sns\n",
    "%matplotlib inline\n"
   ]
  },
  {
   "cell_type": "code",
   "execution_count": 3,
   "metadata": {},
   "outputs": [],
   "source": [
    "#twitter app access key for user\n",
    "\n",
    "#consumer\n",
    "consumer_key = 'fMKjC8wbEoUbNVbGcWUf5rFEU'\n",
    "consumer_secret = 'ihljrt7IUdMNvEXJt11nluYjxOQtvzRZtpCbhU1keLwY9ZaAuc'\n",
    "\n",
    "#access\n",
    "access_token = '775347217414492160-GddSYTKySTLF4OEct5L5ZyyCtdhGTx4'\n",
    "access_token_secret = 'uBkeXbEFXqPLg1Ea9LUYxd7EK6L0aT9m9yc8rZbRlRg7K'\n"
   ]
  },
  {
   "cell_type": "code",
   "execution_count": 7,
   "metadata": {},
   "outputs": [],
   "source": [
    "#we import our access key\n",
    "from credentials import *  #this will allow us to use the variable\n",
    "\n",
    "def twitter_setup():\n",
    "    \n",
    "    \n",
    "    #authentication and access using key\n",
    "    auth =tweepy.OAuthHandler(consumer_key, consumer_secret)\n",
    "    auth.set_access_token(access_token, access_token_secret)\n",
    "    \n",
    "    #return authentication with api:\n",
    "    api =tweepy.API(auth)\n",
    "    return api"
   ]
  },
  {
   "cell_type": "code",
   "execution_count": 10,
   "metadata": {},
   "outputs": [
    {
     "name": "stdout",
     "output_type": "stream",
     "text": [
      "Number of tweets extracted: 200.\n",
      "\n",
      "10 recent tweets:\n",
      "\n",
      "https://t.co/E3xvdUGZqa\n",
      "\n",
      "Join me in Tampa, Florida next Tuesday, July 31st at 7:00pmE for a #MAGA Rally! Tickets: https://t.co/Q2PMyTACl8 https://t.co/URjvN8Owoe\n",
      "\n",
      "The only things the Democrats do well is “Resist,” which is their campaign slogan, and “Obstruct.” Cryin’ Chuck Sch… https://t.co/GBFgVFHKgz\n",
      "\n",
      "Democrats, who want Open Borders and care little about Crime, are incompetent, but they have the Fake News Media al… https://t.co/x2QxE3DYGu\n",
      "\n",
      "Congressman David Kustoff has been a champion for the Trump Agenda - I greatly appreciate his support. David is str… https://t.co/b69nex9NfW\n",
      "\n",
      "Private business investment has surged from 1.8 percent the year BEFORE I came into office to 9.4 percent this year… https://t.co/LSqCNJs3u8\n",
      "\n",
      "The @USNavy’s first female Admiral, Alene Duerk once said: “It was a nice distinction to have, and to be recognized… https://t.co/PWflPU2xFK\n",
      "\n",
      "We have accomplished an economic turnaround of HISTORIC proportions! https://t.co/vnmMtPv0kk\n",
      "\n",
      "I am thrilled to announce that in the second quarter of this year, the U.S. Economy grew at the amazing rate of 4.1… https://t.co/cLRtLfjBnU\n",
      "\n",
      ".@Troy_Balderson of Ohio is running for Congress - so important to the Republican Party. Cast you early vote or vot… https://t.co/sydEr50eNt\n",
      "\n"
     ]
    }
   ],
   "source": [
    "# We create an extractor object:\n",
    "extractor = twitter_setup()\n",
    "\n",
    "# We create a tweet list as follows:\n",
    "tweets = extractor.user_timeline(screen_name=\"realDonaldTrump\", count=200)\n",
    "print(\"Number of tweets extracted: {}.\\n\".format(len(tweets)))\n",
    "\n",
    "# We print the most recent 5 tweets:\n",
    "print(\"10 recent tweets:\\n\")\n",
    "for tweet in tweets[:10]:\n",
    "    print(tweet.text)\n",
    "    print()"
   ]
  },
  {
   "cell_type": "code",
   "execution_count": 12,
   "metadata": {},
   "outputs": [
    {
     "data": {
      "text/html": [
       "<div>\n",
       "<style scoped>\n",
       "    .dataframe tbody tr th:only-of-type {\n",
       "        vertical-align: middle;\n",
       "    }\n",
       "\n",
       "    .dataframe tbody tr th {\n",
       "        vertical-align: top;\n",
       "    }\n",
       "\n",
       "    .dataframe thead th {\n",
       "        text-align: right;\n",
       "    }\n",
       "</style>\n",
       "<table border=\"1\" class=\"dataframe\">\n",
       "  <thead>\n",
       "    <tr style=\"text-align: right;\">\n",
       "      <th></th>\n",
       "      <th>Tweets</th>\n",
       "    </tr>\n",
       "  </thead>\n",
       "  <tbody>\n",
       "    <tr>\n",
       "      <th>0</th>\n",
       "      <td>https://t.co/E3xvdUGZqa</td>\n",
       "    </tr>\n",
       "    <tr>\n",
       "      <th>1</th>\n",
       "      <td>Join me in Tampa, Florida next Tuesday, July 3...</td>\n",
       "    </tr>\n",
       "    <tr>\n",
       "      <th>2</th>\n",
       "      <td>The only things the Democrats do well is “Resi...</td>\n",
       "    </tr>\n",
       "    <tr>\n",
       "      <th>3</th>\n",
       "      <td>Democrats, who want Open Borders and care litt...</td>\n",
       "    </tr>\n",
       "    <tr>\n",
       "      <th>4</th>\n",
       "      <td>Congressman David Kustoff has been a champion ...</td>\n",
       "    </tr>\n",
       "    <tr>\n",
       "      <th>5</th>\n",
       "      <td>Private business investment has surged from 1....</td>\n",
       "    </tr>\n",
       "    <tr>\n",
       "      <th>6</th>\n",
       "      <td>The @USNavy’s first female Admiral, Alene Duer...</td>\n",
       "    </tr>\n",
       "    <tr>\n",
       "      <th>7</th>\n",
       "      <td>We have accomplished an economic turnaround of...</td>\n",
       "    </tr>\n",
       "    <tr>\n",
       "      <th>8</th>\n",
       "      <td>I am thrilled to announce that in the second q...</td>\n",
       "    </tr>\n",
       "    <tr>\n",
       "      <th>9</th>\n",
       "      <td>.@Troy_Balderson of Ohio is running for Congre...</td>\n",
       "    </tr>\n",
       "  </tbody>\n",
       "</table>\n",
       "</div>"
      ],
      "text/plain": [
       "                                              Tweets\n",
       "0                            https://t.co/E3xvdUGZqa\n",
       "1  Join me in Tampa, Florida next Tuesday, July 3...\n",
       "2  The only things the Democrats do well is “Resi...\n",
       "3  Democrats, who want Open Borders and care litt...\n",
       "4  Congressman David Kustoff has been a champion ...\n",
       "5  Private business investment has surged from 1....\n",
       "6  The @USNavy’s first female Admiral, Alene Duer...\n",
       "7  We have accomplished an economic turnaround of...\n",
       "8  I am thrilled to announce that in the second q...\n",
       "9  .@Troy_Balderson of Ohio is running for Congre..."
      ]
     },
     "metadata": {},
     "output_type": "display_data"
    }
   ],
   "source": [
    "# We create a pandas dataframe as follows:\n",
    "data = pd.DataFrame(data=[tweet.text for tweet in tweets], columns=['Tweets'])\n",
    "\n",
    "# We display the first 10 elements of the dataframe:\n",
    "display(data.head(10))"
   ]
  },
  {
   "cell_type": "code",
   "execution_count": 13,
   "metadata": {},
   "outputs": [
    {
     "name": "stdout",
     "output_type": "stream",
     "text": [
      "['__class__', '__delattr__', '__dict__', '__dir__', '__doc__', '__eq__', '__format__', '__ge__', '__getattribute__', '__getstate__', '__gt__', '__hash__', '__init__', '__init_subclass__', '__le__', '__lt__', '__module__', '__ne__', '__new__', '__reduce__', '__reduce_ex__', '__repr__', '__setattr__', '__sizeof__', '__str__', '__subclasshook__', '__weakref__', '_api', '_json', 'author', 'contributors', 'coordinates', 'created_at', 'destroy', 'entities', 'extended_entities', 'favorite', 'favorite_count', 'favorited', 'geo', 'id', 'id_str', 'in_reply_to_screen_name', 'in_reply_to_status_id', 'in_reply_to_status_id_str', 'in_reply_to_user_id', 'in_reply_to_user_id_str', 'is_quote_status', 'lang', 'parse', 'parse_list', 'place', 'possibly_sensitive', 'retweet', 'retweet_count', 'retweeted', 'retweets', 'source', 'source_url', 'text', 'truncated', 'user']\n"
     ]
    }
   ],
   "source": [
    "# Internal methods of a single tweet object:\n",
    "print(dir(tweets[0]))"
   ]
  },
  {
   "cell_type": "code",
   "execution_count": 14,
   "metadata": {},
   "outputs": [
    {
     "name": "stdout",
     "output_type": "stream",
     "text": [
      "1023246073060634626\n",
      "2018-07-28 16:37:29\n",
      "Media Studio\n",
      "28654\n",
      "<bound method Status.retweet of Status(_api=<tweepy.api.API object at 0x04CED9D0>, _json={'created_at': 'Sat Jul 28 16:37:29 +0000 2018', 'id': 1023246073060634626, 'id_str': '1023246073060634626', 'text': 'https://t.co/E3xvdUGZqa', 'truncated': False, 'entities': {'hashtags': [], 'symbols': [], 'user_mentions': [], 'urls': [], 'media': [{'id': 1023245132466925569, 'id_str': '1023245132466925569', 'indices': [0, 23], 'media_url': 'http://pbs.twimg.com/amplify_video_thumb/1023245132466925569/img/_KkQ8GLfAaCWQKGN.jpg', 'media_url_https': 'https://pbs.twimg.com/amplify_video_thumb/1023245132466925569/img/_KkQ8GLfAaCWQKGN.jpg', 'url': 'https://t.co/E3xvdUGZqa', 'display_url': 'pic.twitter.com/E3xvdUGZqa', 'expanded_url': 'https://twitter.com/realDonaldTrump/status/1023246073060634626/video/1', 'type': 'photo', 'sizes': {'thumb': {'w': 150, 'h': 150, 'resize': 'crop'}, 'medium': {'w': 1200, 'h': 675, 'resize': 'fit'}, 'small': {'w': 680, 'h': 383, 'resize': 'fit'}, 'large': {'w': 1280, 'h': 720, 'resize': 'fit'}}}]}, 'extended_entities': {'media': [{'id': 1023245132466925569, 'id_str': '1023245132466925569', 'indices': [0, 23], 'media_url': 'http://pbs.twimg.com/amplify_video_thumb/1023245132466925569/img/_KkQ8GLfAaCWQKGN.jpg', 'media_url_https': 'https://pbs.twimg.com/amplify_video_thumb/1023245132466925569/img/_KkQ8GLfAaCWQKGN.jpg', 'url': 'https://t.co/E3xvdUGZqa', 'display_url': 'pic.twitter.com/E3xvdUGZqa', 'expanded_url': 'https://twitter.com/realDonaldTrump/status/1023246073060634626/video/1', 'type': 'video', 'sizes': {'thumb': {'w': 150, 'h': 150, 'resize': 'crop'}, 'medium': {'w': 1200, 'h': 675, 'resize': 'fit'}, 'small': {'w': 680, 'h': 383, 'resize': 'fit'}, 'large': {'w': 1280, 'h': 720, 'resize': 'fit'}}, 'video_info': {'aspect_ratio': [16, 9], 'duration_millis': 181698, 'variants': [{'bitrate': 2176000, 'content_type': 'video/mp4', 'url': 'https://video.twimg.com/amplify_video/1023245132466925569/vid/1280x720/Zv3Ji3dJaFGIozCB.mp4?tag=7'}, {'bitrate': 288000, 'content_type': 'video/mp4', 'url': 'https://video.twimg.com/amplify_video/1023245132466925569/vid/320x180/LjuNzYOOlfre2Amd.mp4?tag=7'}, {'bitrate': 832000, 'content_type': 'video/mp4', 'url': 'https://video.twimg.com/amplify_video/1023245132466925569/vid/640x360/e78IcOs65MyJwe09.mp4?tag=7'}, {'content_type': 'application/x-mpegURL', 'url': 'https://video.twimg.com/amplify_video/1023245132466925569/pl/bBILFYyyvHqqR5XA.m3u8?tag=7'}]}, 'additional_media_info': {'title': '', 'description': '', 'embeddable': True, 'monetizable': False}}]}, 'source': '<a href=\"https://studio.twitter.com\" rel=\"nofollow\">Media Studio</a>', 'in_reply_to_status_id': None, 'in_reply_to_status_id_str': None, 'in_reply_to_user_id': None, 'in_reply_to_user_id_str': None, 'in_reply_to_screen_name': None, 'user': {'id': 25073877, 'id_str': '25073877', 'name': 'Donald J. Trump', 'screen_name': 'realDonaldTrump', 'location': 'Washington, DC', 'description': '45th President of the United States of America🇺🇸', 'url': 'https://t.co/OMxB0x7xC5', 'entities': {'url': {'urls': [{'url': 'https://t.co/OMxB0x7xC5', 'expanded_url': 'http://www.Instagram.com/realDonaldTrump', 'display_url': 'Instagram.com/realDonaldTrump', 'indices': [0, 23]}]}, 'description': {'urls': []}}, 'protected': False, 'followers_count': 53344126, 'friends_count': 47, 'listed_count': 91371, 'created_at': 'Wed Mar 18 13:46:38 +0000 2009', 'favourites_count': 25, 'utc_offset': None, 'time_zone': None, 'geo_enabled': True, 'verified': True, 'statuses_count': 38339, 'lang': 'en', 'contributors_enabled': False, 'is_translator': False, 'is_translation_enabled': True, 'profile_background_color': '6D5C18', 'profile_background_image_url': 'http://abs.twimg.com/images/themes/theme1/bg.png', 'profile_background_image_url_https': 'https://abs.twimg.com/images/themes/theme1/bg.png', 'profile_background_tile': True, 'profile_image_url': 'http://pbs.twimg.com/profile_images/874276197357596672/kUuht00m_normal.jpg', 'profile_image_url_https': 'https://pbs.twimg.com/profile_images/874276197357596672/kUuht00m_normal.jpg', 'profile_banner_url': 'https://pbs.twimg.com/profile_banners/25073877/1531968290', 'profile_link_color': '1B95E0', 'profile_sidebar_border_color': 'BDDCAD', 'profile_sidebar_fill_color': 'C5CEC0', 'profile_text_color': '333333', 'profile_use_background_image': True, 'has_extended_profile': False, 'default_profile': False, 'default_profile_image': False, 'following': False, 'follow_request_sent': False, 'notifications': False, 'translator_type': 'regular'}, 'geo': None, 'coordinates': None, 'place': None, 'contributors': None, 'is_quote_status': False, 'retweet_count': 8701, 'favorite_count': 28654, 'favorited': False, 'retweeted': False, 'possibly_sensitive': False, 'lang': 'und'}, created_at=datetime.datetime(2018, 7, 28, 16, 37, 29), id=1023246073060634626, id_str='1023246073060634626', text='https://t.co/E3xvdUGZqa', truncated=False, entities={'hashtags': [], 'symbols': [], 'user_mentions': [], 'urls': [], 'media': [{'id': 1023245132466925569, 'id_str': '1023245132466925569', 'indices': [0, 23], 'media_url': 'http://pbs.twimg.com/amplify_video_thumb/1023245132466925569/img/_KkQ8GLfAaCWQKGN.jpg', 'media_url_https': 'https://pbs.twimg.com/amplify_video_thumb/1023245132466925569/img/_KkQ8GLfAaCWQKGN.jpg', 'url': 'https://t.co/E3xvdUGZqa', 'display_url': 'pic.twitter.com/E3xvdUGZqa', 'expanded_url': 'https://twitter.com/realDonaldTrump/status/1023246073060634626/video/1', 'type': 'photo', 'sizes': {'thumb': {'w': 150, 'h': 150, 'resize': 'crop'}, 'medium': {'w': 1200, 'h': 675, 'resize': 'fit'}, 'small': {'w': 680, 'h': 383, 'resize': 'fit'}, 'large': {'w': 1280, 'h': 720, 'resize': 'fit'}}}]}, extended_entities={'media': [{'id': 1023245132466925569, 'id_str': '1023245132466925569', 'indices': [0, 23], 'media_url': 'http://pbs.twimg.com/amplify_video_thumb/1023245132466925569/img/_KkQ8GLfAaCWQKGN.jpg', 'media_url_https': 'https://pbs.twimg.com/amplify_video_thumb/1023245132466925569/img/_KkQ8GLfAaCWQKGN.jpg', 'url': 'https://t.co/E3xvdUGZqa', 'display_url': 'pic.twitter.com/E3xvdUGZqa', 'expanded_url': 'https://twitter.com/realDonaldTrump/status/1023246073060634626/video/1', 'type': 'video', 'sizes': {'thumb': {'w': 150, 'h': 150, 'resize': 'crop'}, 'medium': {'w': 1200, 'h': 675, 'resize': 'fit'}, 'small': {'w': 680, 'h': 383, 'resize': 'fit'}, 'large': {'w': 1280, 'h': 720, 'resize': 'fit'}}, 'video_info': {'aspect_ratio': [16, 9], 'duration_millis': 181698, 'variants': [{'bitrate': 2176000, 'content_type': 'video/mp4', 'url': 'https://video.twimg.com/amplify_video/1023245132466925569/vid/1280x720/Zv3Ji3dJaFGIozCB.mp4?tag=7'}, {'bitrate': 288000, 'content_type': 'video/mp4', 'url': 'https://video.twimg.com/amplify_video/1023245132466925569/vid/320x180/LjuNzYOOlfre2Amd.mp4?tag=7'}, {'bitrate': 832000, 'content_type': 'video/mp4', 'url': 'https://video.twimg.com/amplify_video/1023245132466925569/vid/640x360/e78IcOs65MyJwe09.mp4?tag=7'}, {'content_type': 'application/x-mpegURL', 'url': 'https://video.twimg.com/amplify_video/1023245132466925569/pl/bBILFYyyvHqqR5XA.m3u8?tag=7'}]}, 'additional_media_info': {'title': '', 'description': '', 'embeddable': True, 'monetizable': False}}]}, source='Media Studio', source_url='https://studio.twitter.com', in_reply_to_status_id=None, in_reply_to_status_id_str=None, in_reply_to_user_id=None, in_reply_to_user_id_str=None, in_reply_to_screen_name=None, author=User(_api=<tweepy.api.API object at 0x04CED9D0>, _json={'id': 25073877, 'id_str': '25073877', 'name': 'Donald J. Trump', 'screen_name': 'realDonaldTrump', 'location': 'Washington, DC', 'description': '45th President of the United States of America🇺🇸', 'url': 'https://t.co/OMxB0x7xC5', 'entities': {'url': {'urls': [{'url': 'https://t.co/OMxB0x7xC5', 'expanded_url': 'http://www.Instagram.com/realDonaldTrump', 'display_url': 'Instagram.com/realDonaldTrump', 'indices': [0, 23]}]}, 'description': {'urls': []}}, 'protected': False, 'followers_count': 53344126, 'friends_count': 47, 'listed_count': 91371, 'created_at': 'Wed Mar 18 13:46:38 +0000 2009', 'favourites_count': 25, 'utc_offset': None, 'time_zone': None, 'geo_enabled': True, 'verified': True, 'statuses_count': 38339, 'lang': 'en', 'contributors_enabled': False, 'is_translator': False, 'is_translation_enabled': True, 'profile_background_color': '6D5C18', 'profile_background_image_url': 'http://abs.twimg.com/images/themes/theme1/bg.png', 'profile_background_image_url_https': 'https://abs.twimg.com/images/themes/theme1/bg.png', 'profile_background_tile': True, 'profile_image_url': 'http://pbs.twimg.com/profile_images/874276197357596672/kUuht00m_normal.jpg', 'profile_image_url_https': 'https://pbs.twimg.com/profile_images/874276197357596672/kUuht00m_normal.jpg', 'profile_banner_url': 'https://pbs.twimg.com/profile_banners/25073877/1531968290', 'profile_link_color': '1B95E0', 'profile_sidebar_border_color': 'BDDCAD', 'profile_sidebar_fill_color': 'C5CEC0', 'profile_text_color': '333333', 'profile_use_background_image': True, 'has_extended_profile': False, 'default_profile': False, 'default_profile_image': False, 'following': False, 'follow_request_sent': False, 'notifications': False, 'translator_type': 'regular'}, id=25073877, id_str='25073877', name='Donald J. Trump', screen_name='realDonaldTrump', location='Washington, DC', description='45th President of the United States of America🇺🇸', url='https://t.co/OMxB0x7xC5', entities={'url': {'urls': [{'url': 'https://t.co/OMxB0x7xC5', 'expanded_url': 'http://www.Instagram.com/realDonaldTrump', 'display_url': 'Instagram.com/realDonaldTrump', 'indices': [0, 23]}]}, 'description': {'urls': []}}, protected=False, followers_count=53344126, friends_count=47, listed_count=91371, created_at=datetime.datetime(2009, 3, 18, 13, 46, 38), favourites_count=25, utc_offset=None, time_zone=None, geo_enabled=True, verified=True, statuses_count=38339, lang='en', contributors_enabled=False, is_translator=False, is_translation_enabled=True, profile_background_color='6D5C18', profile_background_image_url='http://abs.twimg.com/images/themes/theme1/bg.png', profile_background_image_url_https='https://abs.twimg.com/images/themes/theme1/bg.png', profile_background_tile=True, profile_image_url='http://pbs.twimg.com/profile_images/874276197357596672/kUuht00m_normal.jpg', profile_image_url_https='https://pbs.twimg.com/profile_images/874276197357596672/kUuht00m_normal.jpg', profile_banner_url='https://pbs.twimg.com/profile_banners/25073877/1531968290', profile_link_color='1B95E0', profile_sidebar_border_color='BDDCAD', profile_sidebar_fill_color='C5CEC0', profile_text_color='333333', profile_use_background_image=True, has_extended_profile=False, default_profile=False, default_profile_image=False, following=False, follow_request_sent=False, notifications=False, translator_type='regular'), user=User(_api=<tweepy.api.API object at 0x04CED9D0>, _json={'id': 25073877, 'id_str': '25073877', 'name': 'Donald J. Trump', 'screen_name': 'realDonaldTrump', 'location': 'Washington, DC', 'description': '45th President of the United States of America🇺🇸', 'url': 'https://t.co/OMxB0x7xC5', 'entities': {'url': {'urls': [{'url': 'https://t.co/OMxB0x7xC5', 'expanded_url': 'http://www.Instagram.com/realDonaldTrump', 'display_url': 'Instagram.com/realDonaldTrump', 'indices': [0, 23]}]}, 'description': {'urls': []}}, 'protected': False, 'followers_count': 53344126, 'friends_count': 47, 'listed_count': 91371, 'created_at': 'Wed Mar 18 13:46:38 +0000 2009', 'favourites_count': 25, 'utc_offset': None, 'time_zone': None, 'geo_enabled': True, 'verified': True, 'statuses_count': 38339, 'lang': 'en', 'contributors_enabled': False, 'is_translator': False, 'is_translation_enabled': True, 'profile_background_color': '6D5C18', 'profile_background_image_url': 'http://abs.twimg.com/images/themes/theme1/bg.png', 'profile_background_image_url_https': 'https://abs.twimg.com/images/themes/theme1/bg.png', 'profile_background_tile': True, 'profile_image_url': 'http://pbs.twimg.com/profile_images/874276197357596672/kUuht00m_normal.jpg', 'profile_image_url_https': 'https://pbs.twimg.com/profile_images/874276197357596672/kUuht00m_normal.jpg', 'profile_banner_url': 'https://pbs.twimg.com/profile_banners/25073877/1531968290', 'profile_link_color': '1B95E0', 'profile_sidebar_border_color': 'BDDCAD', 'profile_sidebar_fill_color': 'C5CEC0', 'profile_text_color': '333333', 'profile_use_background_image': True, 'has_extended_profile': False, 'default_profile': False, 'default_profile_image': False, 'following': False, 'follow_request_sent': False, 'notifications': False, 'translator_type': 'regular'}, id=25073877, id_str='25073877', name='Donald J. Trump', screen_name='realDonaldTrump', location='Washington, DC', description='45th President of the United States of America🇺🇸', url='https://t.co/OMxB0x7xC5', entities={'url': {'urls': [{'url': 'https://t.co/OMxB0x7xC5', 'expanded_url': 'http://www.Instagram.com/realDonaldTrump', 'display_url': 'Instagram.com/realDonaldTrump', 'indices': [0, 23]}]}, 'description': {'urls': []}}, protected=False, followers_count=53344126, friends_count=47, listed_count=91371, created_at=datetime.datetime(2009, 3, 18, 13, 46, 38), favourites_count=25, utc_offset=None, time_zone=None, geo_enabled=True, verified=True, statuses_count=38339, lang='en', contributors_enabled=False, is_translator=False, is_translation_enabled=True, profile_background_color='6D5C18', profile_background_image_url='http://abs.twimg.com/images/themes/theme1/bg.png', profile_background_image_url_https='https://abs.twimg.com/images/themes/theme1/bg.png', profile_background_tile=True, profile_image_url='http://pbs.twimg.com/profile_images/874276197357596672/kUuht00m_normal.jpg', profile_image_url_https='https://pbs.twimg.com/profile_images/874276197357596672/kUuht00m_normal.jpg', profile_banner_url='https://pbs.twimg.com/profile_banners/25073877/1531968290', profile_link_color='1B95E0', profile_sidebar_border_color='BDDCAD', profile_sidebar_fill_color='C5CEC0', profile_text_color='333333', profile_use_background_image=True, has_extended_profile=False, default_profile=False, default_profile_image=False, following=False, follow_request_sent=False, notifications=False, translator_type='regular'), geo=None, coordinates=None, place=None, contributors=None, is_quote_status=False, retweet_count=8701, favorite_count=28654, favorited=False, retweeted=False, possibly_sensitive=False, lang='und')>\n",
      "None\n",
      "None\n",
      "{'hashtags': [], 'symbols': [], 'user_mentions': [], 'urls': [], 'media': [{'id': 1023245132466925569, 'id_str': '1023245132466925569', 'indices': [0, 23], 'media_url': 'http://pbs.twimg.com/amplify_video_thumb/1023245132466925569/img/_KkQ8GLfAaCWQKGN.jpg', 'media_url_https': 'https://pbs.twimg.com/amplify_video_thumb/1023245132466925569/img/_KkQ8GLfAaCWQKGN.jpg', 'url': 'https://t.co/E3xvdUGZqa', 'display_url': 'pic.twitter.com/E3xvdUGZqa', 'expanded_url': 'https://twitter.com/realDonaldTrump/status/1023246073060634626/video/1', 'type': 'photo', 'sizes': {'thumb': {'w': 150, 'h': 150, 'resize': 'crop'}, 'medium': {'w': 1200, 'h': 675, 'resize': 'fit'}, 'small': {'w': 680, 'h': 383, 'resize': 'fit'}, 'large': {'w': 1280, 'h': 720, 'resize': 'fit'}}}]}\n"
     ]
    }
   ],
   "source": [
    "print(tweets[0].id)\n",
    "print(tweets[0].created_at)\n",
    "print(tweets[0].source)\n",
    "print(tweets[0].favorite_count)\n",
    "print(tweets[0].retweet)\n",
    "print(tweets[0].geo)\n",
    "print(tweets[0].coordinates)\n",
    "print(tweets[0].entities)"
   ]
  },
  {
   "cell_type": "code",
   "execution_count": 15,
   "metadata": {},
   "outputs": [],
   "source": [
    "#we add relevent data to daataframe\n",
    "data['len']  = np.array([len(tweet.text) for tweet in tweets])\n",
    "data['ID']   = np.array([tweet.id for tweet in tweets])\n",
    "data['Date'] = np.array([tweet.created_at for tweet in tweets])\n",
    "data['Source'] = np.array([tweet.source for tweet in tweets])\n",
    "data['Likes']  = np.array([tweet.favorite_count for tweet in tweets])\n",
    "data['RTs']    = np.array([tweet.retweet_count for tweet in tweets])"
   ]
  },
  {
   "cell_type": "code",
   "execution_count": 16,
   "metadata": {},
   "outputs": [
    {
     "data": {
      "text/html": [
       "<div>\n",
       "<style scoped>\n",
       "    .dataframe tbody tr th:only-of-type {\n",
       "        vertical-align: middle;\n",
       "    }\n",
       "\n",
       "    .dataframe tbody tr th {\n",
       "        vertical-align: top;\n",
       "    }\n",
       "\n",
       "    .dataframe thead th {\n",
       "        text-align: right;\n",
       "    }\n",
       "</style>\n",
       "<table border=\"1\" class=\"dataframe\">\n",
       "  <thead>\n",
       "    <tr style=\"text-align: right;\">\n",
       "      <th></th>\n",
       "      <th>Tweets</th>\n",
       "      <th>len</th>\n",
       "      <th>ID</th>\n",
       "      <th>Date</th>\n",
       "      <th>Source</th>\n",
       "      <th>Likes</th>\n",
       "      <th>RTs</th>\n",
       "    </tr>\n",
       "  </thead>\n",
       "  <tbody>\n",
       "    <tr>\n",
       "      <th>0</th>\n",
       "      <td>https://t.co/E3xvdUGZqa</td>\n",
       "      <td>23</td>\n",
       "      <td>1023246073060634626</td>\n",
       "      <td>2018-07-28 16:37:29</td>\n",
       "      <td>Media Studio</td>\n",
       "      <td>28654</td>\n",
       "      <td>8701</td>\n",
       "    </tr>\n",
       "    <tr>\n",
       "      <th>1</th>\n",
       "      <td>Join me in Tampa, Florida next Tuesday, July 3...</td>\n",
       "      <td>136</td>\n",
       "      <td>1023023685681250304</td>\n",
       "      <td>2018-07-28 01:53:48</td>\n",
       "      <td>Twitter for iPhone</td>\n",
       "      <td>39101</td>\n",
       "      <td>10557</td>\n",
       "    </tr>\n",
       "    <tr>\n",
       "      <th>2</th>\n",
       "      <td>The only things the Democrats do well is “Resi...</td>\n",
       "      <td>140</td>\n",
       "      <td>1023007120130760704</td>\n",
       "      <td>2018-07-28 00:47:58</td>\n",
       "      <td>Twitter for iPhone</td>\n",
       "      <td>84889</td>\n",
       "      <td>22394</td>\n",
       "    </tr>\n",
       "    <tr>\n",
       "      <th>3</th>\n",
       "      <td>Democrats, who want Open Borders and care litt...</td>\n",
       "      <td>140</td>\n",
       "      <td>1022976410745495552</td>\n",
       "      <td>2018-07-27 22:45:56</td>\n",
       "      <td>Twitter for iPhone</td>\n",
       "      <td>89224</td>\n",
       "      <td>22119</td>\n",
       "    </tr>\n",
       "    <tr>\n",
       "      <th>4</th>\n",
       "      <td>Congressman David Kustoff has been a champion ...</td>\n",
       "      <td>140</td>\n",
       "      <td>1022936690267176971</td>\n",
       "      <td>2018-07-27 20:08:06</td>\n",
       "      <td>Twitter for iPhone</td>\n",
       "      <td>54630</td>\n",
       "      <td>13617</td>\n",
       "    </tr>\n",
       "    <tr>\n",
       "      <th>5</th>\n",
       "      <td>Private business investment has surged from 1....</td>\n",
       "      <td>140</td>\n",
       "      <td>1022925366669856769</td>\n",
       "      <td>2018-07-27 19:23:07</td>\n",
       "      <td>Twitter for iPhone</td>\n",
       "      <td>49246</td>\n",
       "      <td>13220</td>\n",
       "    </tr>\n",
       "    <tr>\n",
       "      <th>6</th>\n",
       "      <td>The @USNavy’s first female Admiral, Alene Duer...</td>\n",
       "      <td>140</td>\n",
       "      <td>1022908672756801536</td>\n",
       "      <td>2018-07-27 18:16:46</td>\n",
       "      <td>Twitter for iPhone</td>\n",
       "      <td>45509</td>\n",
       "      <td>10604</td>\n",
       "    </tr>\n",
       "    <tr>\n",
       "      <th>7</th>\n",
       "      <td>We have accomplished an economic turnaround of...</td>\n",
       "      <td>92</td>\n",
       "      <td>1022879441767288834</td>\n",
       "      <td>2018-07-27 16:20:37</td>\n",
       "      <td>Twitter for iPhone</td>\n",
       "      <td>58127</td>\n",
       "      <td>15062</td>\n",
       "    </tr>\n",
       "    <tr>\n",
       "      <th>8</th>\n",
       "      <td>I am thrilled to announce that in the second q...</td>\n",
       "      <td>140</td>\n",
       "      <td>1022877332858650624</td>\n",
       "      <td>2018-07-27 16:12:14</td>\n",
       "      <td>Twitter for iPhone</td>\n",
       "      <td>79171</td>\n",
       "      <td>19575</td>\n",
       "    </tr>\n",
       "    <tr>\n",
       "      <th>9</th>\n",
       "      <td>.@Troy_Balderson of Ohio is running for Congre...</td>\n",
       "      <td>140</td>\n",
       "      <td>1022873937561243649</td>\n",
       "      <td>2018-07-27 15:58:45</td>\n",
       "      <td>Twitter for iPhone</td>\n",
       "      <td>40612</td>\n",
       "      <td>10610</td>\n",
       "    </tr>\n",
       "  </tbody>\n",
       "</table>\n",
       "</div>"
      ],
      "text/plain": [
       "                                              Tweets  len  \\\n",
       "0                            https://t.co/E3xvdUGZqa   23   \n",
       "1  Join me in Tampa, Florida next Tuesday, July 3...  136   \n",
       "2  The only things the Democrats do well is “Resi...  140   \n",
       "3  Democrats, who want Open Borders and care litt...  140   \n",
       "4  Congressman David Kustoff has been a champion ...  140   \n",
       "5  Private business investment has surged from 1....  140   \n",
       "6  The @USNavy’s first female Admiral, Alene Duer...  140   \n",
       "7  We have accomplished an economic turnaround of...   92   \n",
       "8  I am thrilled to announce that in the second q...  140   \n",
       "9  .@Troy_Balderson of Ohio is running for Congre...  140   \n",
       "\n",
       "                    ID                Date              Source  Likes    RTs  \n",
       "0  1023246073060634626 2018-07-28 16:37:29        Media Studio  28654   8701  \n",
       "1  1023023685681250304 2018-07-28 01:53:48  Twitter for iPhone  39101  10557  \n",
       "2  1023007120130760704 2018-07-28 00:47:58  Twitter for iPhone  84889  22394  \n",
       "3  1022976410745495552 2018-07-27 22:45:56  Twitter for iPhone  89224  22119  \n",
       "4  1022936690267176971 2018-07-27 20:08:06  Twitter for iPhone  54630  13617  \n",
       "5  1022925366669856769 2018-07-27 19:23:07  Twitter for iPhone  49246  13220  \n",
       "6  1022908672756801536 2018-07-27 18:16:46  Twitter for iPhone  45509  10604  \n",
       "7  1022879441767288834 2018-07-27 16:20:37  Twitter for iPhone  58127  15062  \n",
       "8  1022877332858650624 2018-07-27 16:12:14  Twitter for iPhone  79171  19575  \n",
       "9  1022873937561243649 2018-07-27 15:58:45  Twitter for iPhone  40612  10610  "
      ]
     },
     "metadata": {},
     "output_type": "display_data"
    }
   ],
   "source": [
    "display(data.head(10))"
   ]
  },
  {
   "cell_type": "code",
   "execution_count": 19,
   "metadata": {},
   "outputs": [
    {
     "name": "stdout",
     "output_type": "stream",
     "text": [
      "The length's average in tweets: 124.355\n"
     ]
    }
   ],
   "source": [
    "#we extract menas of the length\n",
    "mean = np.mean(data['len'])\n",
    "print (\"The length's average in tweets: {}\".format(mean))\n"
   ]
  },
  {
   "cell_type": "code",
   "execution_count": 21,
   "metadata": {},
   "outputs": [
    {
     "name": "stdout",
     "output_type": "stream",
     "text": [
      "The tweet with more likes is: \n",
      "To Iranian President Rouhani: NEVER, EVER THREATEN THE UNITED STATES AGAIN OR YOU WILL SUFFER CONSEQUENCES THE LIKE… https://t.co/xUdD66vfBW\n",
      "Number of likes: 331437\n",
      "140 characters.\n",
      "\n",
      "The tweet with more retweets is: \n",
      "To Iranian President Rouhani: NEVER, EVER THREATEN THE UNITED STATES AGAIN OR YOU WILL SUFFER CONSEQUENCES THE LIKE… https://t.co/xUdD66vfBW\n",
      "Number of retweets: 107631\n",
      "140 characters.\n",
      "\n"
     ]
    }
   ],
   "source": [
    "fav_max = np.max(data['Likes'])\n",
    "rt_max  = np.max(data['RTs'])\n",
    "\n",
    "fav = data[data.Likes == fav_max].index[0]\n",
    "rt  = data[data.RTs == rt_max].index[0]\n",
    "\n",
    "# Max FAVs:\n",
    "print(\"The tweet with more likes is: \\n{}\".format(data['Tweets'][fav]))\n",
    "print(\"Number of likes: {}\".format(fav_max))\n",
    "print(\"{} characters.\\n\".format(data['len'][fav]))\n",
    "\n",
    "# Max RTs:\n",
    "print(\"The tweet with more retweets is: \\n{}\".format(data['Tweets'][rt]))\n",
    "print(\"Number of retweets: {}\".format(rt_max))\n",
    "print(\"{} characters.\\n\".format(data['len'][rt]))"
   ]
  },
  {
   "cell_type": "code",
   "execution_count": 22,
   "metadata": {},
   "outputs": [],
   "source": [
    "# We create time series for data:\n",
    "\n",
    "tlen = pd.Series(data=data['len'].values, index=data['Date'])\n",
    "tfav = pd.Series(data=data['Likes'].values, index=data['Date'])\n",
    "tret = pd.Series(data=data['RTs'].values, index=data['Date'])"
   ]
  },
  {
   "cell_type": "code",
   "execution_count": 23,
   "metadata": {},
   "outputs": [
    {
     "data": {
      "image/png": "[encoded data removed]",
      "text/plain": [
       "<Figure size 1152x288 with 1 Axes>"
      ]
     },
     "metadata": {},
     "output_type": "display_data"
    }
   ],
   "source": [
    "# Lenghts along time:\n",
    "tlen.plot(figsize=(16,4), color='r');"
   ]
  },
  {
   "cell_type": "code",
   "execution_count": 24,
   "metadata": {},
   "outputs": [
    {
     "data": {
      "image/png": "[encoded data removed]",
      "text/plain": [
       "<Figure size 1152x288 with 1 Axes>"
      ]
     },
     "metadata": {},
     "output_type": "display_data"
    }
   ],
   "source": [
    "# Likes vs retweets visualization:\n",
    "tfav.plot(figsize=(16,4), label=\"Likes\", legend=True)\n",
    "tret.plot(figsize=(16,4), label=\"Retweets\", legend=True);"
   ]
  },
  {
   "cell_type": "code",
   "execution_count": 25,
   "metadata": {},
   "outputs": [
    {
     "name": "stdout",
     "output_type": "stream",
     "text": [
      "Creation of content sources:\n",
      "* Media Studio\n",
      "* Twitter for iPhone\n",
      "* Twitter for iPad\n"
     ]
    }
   ],
   "source": [
    "# We obtain all possible sources:\n",
    "sources = []\n",
    "for source in data['Source']:\n",
    "    if source not in sources:\n",
    "        sources.append(source)\n",
    "\n",
    "# We print sources list:\n",
    "print(\"Creation of content sources:\")\n",
    "for source in sources:\n",
    "    print(\"* {}\".format(source))"
   ]
  },
  {
   "cell_type": "code",
   "execution_count": 26,
   "metadata": {},
   "outputs": [
    {
     "data": {
      "image/png": "[encoded data removed]",
      "text/plain": [
       "<Figure size 432x432 with 1 Axes>"
      ]
     },
     "metadata": {},
     "output_type": "display_data"
    }
   ],
   "source": [
    "# We create a numpy vector mapped to labels:\n",
    "percent = np.zeros(len(sources))\n",
    "\n",
    "for source in data['Source']:\n",
    "    for index in range(len(sources)):\n",
    "        if source == sources[index]:\n",
    "            percent[index] += 1\n",
    "            pass\n",
    "\n",
    "percent /= 100\n",
    "\n",
    "# Pie chart:\n",
    "pie_chart = pd.Series(percent, index=sources, name='Sources')\n",
    "pie_chart.plot.pie(fontsize=11, autopct='%.2f', figsize=(6, 6));"
   ]
  },
  {
   "cell_type": "code",
   "execution_count": 30,
   "metadata": {},
   "outputs": [],
   "source": [
    "from textblob import TextBlob\n",
    "import re\n",
    "\n",
    "def clean_tweet(tweet):\n",
    "    #utility function to clean the text in a tweet by removing linkes and apecial charactor using regex\n",
    "        return ' '.join(re.sub(\"(@[A-Za-z0-9]+)|([^0-9A-Za-z \\t])|(\\w+:\\/\\/\\S+)\", \" \", tweet).split())\n",
    "def analize_sentiment(tweet):\n",
    "    #utility function to classify the polarity of a tweet using textblob\n",
    "    analysis = TextBlob(clean_tweet(tweet))\n",
    "    \n",
    "    if analysis.sentiment.polarity > 0:\n",
    "        return 1\n",
    "    elif analysis.sentiment.polarity == 0:\n",
    "        return 0\n",
    "    else:\n",
    "        return -1\n",
    "        \n",
    "    "
   ]
  },
  {
   "cell_type": "code",
   "execution_count": 31,
   "metadata": {},
   "outputs": [
    {
     "data": {
      "text/html": [
       "<div>\n",
       "<style scoped>\n",
       "    .dataframe tbody tr th:only-of-type {\n",
       "        vertical-align: middle;\n",
       "    }\n",
       "\n",
       "    .dataframe tbody tr th {\n",
       "        vertical-align: top;\n",
       "    }\n",
       "\n",
       "    .dataframe thead th {\n",
       "        text-align: right;\n",
       "    }\n",
       "</style>\n",
       "<table border=\"1\" class=\"dataframe\">\n",
       "  <thead>\n",
       "    <tr style=\"text-align: right;\">\n",
       "      <th></th>\n",
       "      <th>Tweets</th>\n",
       "      <th>len</th>\n",
       "      <th>ID</th>\n",
       "      <th>Date</th>\n",
       "      <th>Source</th>\n",
       "      <th>Likes</th>\n",
       "      <th>RTs</th>\n",
       "      <th>SA</th>\n",
       "    </tr>\n",
       "  </thead>\n",
       "  <tbody>\n",
       "    <tr>\n",
       "      <th>0</th>\n",
       "      <td>https://t.co/E3xvdUGZqa</td>\n",
       "      <td>23</td>\n",
       "      <td>1023246073060634626</td>\n",
       "      <td>2018-07-28 16:37:29</td>\n",
       "      <td>Media Studio</td>\n",
       "      <td>28654</td>\n",
       "      <td>8701</td>\n",
       "      <td>0</td>\n",
       "    </tr>\n",
       "    <tr>\n",
       "      <th>1</th>\n",
       "      <td>Join me in Tampa, Florida next Tuesday, July 3...</td>\n",
       "      <td>136</td>\n",
       "      <td>1023023685681250304</td>\n",
       "      <td>2018-07-28 01:53:48</td>\n",
       "      <td>Twitter for iPhone</td>\n",
       "      <td>39101</td>\n",
       "      <td>10557</td>\n",
       "      <td>0</td>\n",
       "    </tr>\n",
       "    <tr>\n",
       "      <th>2</th>\n",
       "      <td>The only things the Democrats do well is “Resi...</td>\n",
       "      <td>140</td>\n",
       "      <td>1023007120130760704</td>\n",
       "      <td>2018-07-28 00:47:58</td>\n",
       "      <td>Twitter for iPhone</td>\n",
       "      <td>84889</td>\n",
       "      <td>22394</td>\n",
       "      <td>0</td>\n",
       "    </tr>\n",
       "    <tr>\n",
       "      <th>3</th>\n",
       "      <td>Democrats, who want Open Borders and care litt...</td>\n",
       "      <td>140</td>\n",
       "      <td>1022976410745495552</td>\n",
       "      <td>2018-07-27 22:45:56</td>\n",
       "      <td>Twitter for iPhone</td>\n",
       "      <td>89224</td>\n",
       "      <td>22119</td>\n",
       "      <td>-1</td>\n",
       "    </tr>\n",
       "    <tr>\n",
       "      <th>4</th>\n",
       "      <td>Congressman David Kustoff has been a champion ...</td>\n",
       "      <td>140</td>\n",
       "      <td>1022936690267176971</td>\n",
       "      <td>2018-07-27 20:08:06</td>\n",
       "      <td>Twitter for iPhone</td>\n",
       "      <td>54630</td>\n",
       "      <td>13617</td>\n",
       "      <td>1</td>\n",
       "    </tr>\n",
       "    <tr>\n",
       "      <th>5</th>\n",
       "      <td>Private business investment has surged from 1....</td>\n",
       "      <td>140</td>\n",
       "      <td>1022925366669856769</td>\n",
       "      <td>2018-07-27 19:23:07</td>\n",
       "      <td>Twitter for iPhone</td>\n",
       "      <td>49246</td>\n",
       "      <td>13220</td>\n",
       "      <td>0</td>\n",
       "    </tr>\n",
       "    <tr>\n",
       "      <th>6</th>\n",
       "      <td>The @USNavy’s first female Admiral, Alene Duer...</td>\n",
       "      <td>140</td>\n",
       "      <td>1022908672756801536</td>\n",
       "      <td>2018-07-27 18:16:46</td>\n",
       "      <td>Twitter for iPhone</td>\n",
       "      <td>45509</td>\n",
       "      <td>10604</td>\n",
       "      <td>1</td>\n",
       "    </tr>\n",
       "    <tr>\n",
       "      <th>7</th>\n",
       "      <td>We have accomplished an economic turnaround of...</td>\n",
       "      <td>92</td>\n",
       "      <td>1022879441767288834</td>\n",
       "      <td>2018-07-27 16:20:37</td>\n",
       "      <td>Twitter for iPhone</td>\n",
       "      <td>58127</td>\n",
       "      <td>15062</td>\n",
       "      <td>1</td>\n",
       "    </tr>\n",
       "    <tr>\n",
       "      <th>8</th>\n",
       "      <td>I am thrilled to announce that in the second q...</td>\n",
       "      <td>140</td>\n",
       "      <td>1022877332858650624</td>\n",
       "      <td>2018-07-27 16:12:14</td>\n",
       "      <td>Twitter for iPhone</td>\n",
       "      <td>79171</td>\n",
       "      <td>19575</td>\n",
       "      <td>1</td>\n",
       "    </tr>\n",
       "    <tr>\n",
       "      <th>9</th>\n",
       "      <td>.@Troy_Balderson of Ohio is running for Congre...</td>\n",
       "      <td>140</td>\n",
       "      <td>1022873937561243649</td>\n",
       "      <td>2018-07-27 15:58:45</td>\n",
       "      <td>Twitter for iPhone</td>\n",
       "      <td>40612</td>\n",
       "      <td>10610</td>\n",
       "      <td>1</td>\n",
       "    </tr>\n",
       "  </tbody>\n",
       "</table>\n",
       "</div>"
      ],
      "text/plain": [
       "                                              Tweets  len  \\\n",
       "0                            https://t.co/E3xvdUGZqa   23   \n",
       "1  Join me in Tampa, Florida next Tuesday, July 3...  136   \n",
       "2  The only things the Democrats do well is “Resi...  140   \n",
       "3  Democrats, who want Open Borders and care litt...  140   \n",
       "4  Congressman David Kustoff has been a champion ...  140   \n",
       "5  Private business investment has surged from 1....  140   \n",
       "6  The @USNavy’s first female Admiral, Alene Duer...  140   \n",
       "7  We have accomplished an economic turnaround of...   92   \n",
       "8  I am thrilled to announce that in the second q...  140   \n",
       "9  .@Troy_Balderson of Ohio is running for Congre...  140   \n",
       "\n",
       "                    ID                Date              Source  Likes    RTs  \\\n",
       "0  1023246073060634626 2018-07-28 16:37:29        Media Studio  28654   8701   \n",
       "1  1023023685681250304 2018-07-28 01:53:48  Twitter for iPhone  39101  10557   \n",
       "2  1023007120130760704 2018-07-28 00:47:58  Twitter for iPhone  84889  22394   \n",
       "3  1022976410745495552 2018-07-27 22:45:56  Twitter for iPhone  89224  22119   \n",
       "4  1022936690267176971 2018-07-27 20:08:06  Twitter for iPhone  54630  13617   \n",
       "5  1022925366669856769 2018-07-27 19:23:07  Twitter for iPhone  49246  13220   \n",
       "6  1022908672756801536 2018-07-27 18:16:46  Twitter for iPhone  45509  10604   \n",
       "7  1022879441767288834 2018-07-27 16:20:37  Twitter for iPhone  58127  15062   \n",
       "8  1022877332858650624 2018-07-27 16:12:14  Twitter for iPhone  79171  19575   \n",
       "9  1022873937561243649 2018-07-27 15:58:45  Twitter for iPhone  40612  10610   \n",
       "\n",
       "   SA  \n",
       "0   0  \n",
       "1   0  \n",
       "2   0  \n",
       "3  -1  \n",
       "4   1  \n",
       "5   0  \n",
       "6   1  \n",
       "7   1  \n",
       "8   1  \n",
       "9   1  "
      ]
     },
     "metadata": {},
     "output_type": "display_data"
    }
   ],
   "source": [
    "# We create a column with the result of the analysis:\n",
    "data['SA'] = np.array([ analize_sentiment(tweet) for tweet in data['Tweets'] ])\n",
    "\n",
    "# We display the updated dataframe with the new column:\n",
    "display(data.head(10))"
   ]
  },
  {
   "cell_type": "code",
   "execution_count": 32,
   "metadata": {},
   "outputs": [
    {
     "name": "stdout",
     "output_type": "stream",
     "text": [
      "Percentage of positive tweets: 49.0%\n",
      "Percentage of neutral tweets: 33.0%\n",
      "Percentage de negative tweets: 18.0%\n"
     ]
    }
   ],
   "source": [
    "# We construct lists with classified tweets:\n",
    "\n",
    "pos_tweets = [ tweet for index, tweet in enumerate(data['Tweets']) if data['SA'][index] > 0]\n",
    "neu_tweets = [ tweet for index, tweet in enumerate(data['Tweets']) if data['SA'][index] == 0]\n",
    "neg_tweets = [ tweet for index, tweet in enumerate(data['Tweets']) if data['SA'][index] < 0]\n",
    "\n",
    "# We print percentages:\n",
    "\n",
    "print(\"Percentage of positive tweets: {}%\".format(len(pos_tweets)*100/len(data['Tweets'])))\n",
    "print(\"Percentage of neutral tweets: {}%\".format(len(neu_tweets)*100/len(data['Tweets'])))\n",
    "print(\"Percentage de negative tweets: {}%\".format(len(neg_tweets)*100/len(data['Tweets'])))"
   ]
  },
  {
   "cell_type": "code",
   "execution_count": null,
   "metadata": {},
   "outputs": [],
   "source": []
  }
 ],
 "metadata": {
  "kernelspec": {
   "display_name": "Python 3",
   "language": "python",
   "name": "python3"
  },
  "language_info": {
   "codemirror_mode": {
    "name": "ipython",
    "version": 3
   },
   "file_extension": ".py",
   "mimetype": "text/x-python",
   "name": "python",
   "nbconvert_exporter": "python",
   "pygments_lexer": "ipython3",
   "version": "3.6.5"
  }
 },
 "nbformat": 4,
 "nbformat_minor": 2
}
